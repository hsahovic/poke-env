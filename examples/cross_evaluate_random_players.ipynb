{
 "cells": [
  {
   "cell_type": "markdown",
   "metadata": {},
   "source": [
    "# Cross Evaluating Random Players\n",
    "\n",
    "Complete source code for this example is available [here](https://github.com/hsahovic/poke-env/blob/master/examples/cross_evaluate_random_players.py).\n",
    "\n",
    "<div class=\"alert alert-info\">\n",
    "\n",
    "A similar example using gen 7 mechanics is available [here](https://github.com/hsahovic/poke-env/blob/master/examples/gen7/cross_evaluate_random_players.py).\n",
    "\n",
    "</div>\n",
    "\n",
    "This example illustrates how to locally run existing agents and utilize the `cross_evaluate` utility function to measure the relative performance of multiple agents.\n",
    "\n",
    "<div class=\"alert alert-info\">\n",
    "\n",
    "Install `tabulate` for formatting results by running `pip install tabulate`.\n",
    "\n",
    "</div>"
   ]
  },
  {
   "cell_type": "code",
   "execution_count": 1,
   "metadata": {
    "execution": {
     "iopub.execute_input": "2023-10-19T23:32:58.271265Z",
     "iopub.status.busy": "2023-10-19T23:32:58.271013Z",
     "iopub.status.idle": "2023-10-19T23:33:03.430709Z",
     "shell.execute_reply": "2023-10-19T23:33:03.430288Z"
    }
   },
   "outputs": [
    {
     "name": "stdout",
     "output_type": "stream",
     "text": [
      "--------------  --------------  --------------  --------------\n",
      "-               RandomPlayer 1  RandomPlayer 2  RandomPlayer 3\n",
      "RandomPlayer 1                  0.45            0.45\n",
      "RandomPlayer 2  0.55                            0.65\n",
      "RandomPlayer 3  0.55            0.35\n",
      "--------------  --------------  --------------  --------------\n"
     ]
    }
   ],
   "source": [
    "from poke_env.player import RandomPlayer, cross_evaluate\n",
    "from tabulate import tabulate\n",
    "\n",
    "# Create three random players\n",
    "players = [RandomPlayer(max_concurrent_battles=10) for _ in range(3)]\n",
    "\n",
    "# Cross evaluate players: each player plays 20 games against every other player\n",
    "cross_evaluation = await cross_evaluate(players, n_challenges=20)\n",
    "\n",
    "# Prepare results for display\n",
    "table = [[\"-\"] + [p.username for p in players]]\n",
    "for p_1, results in cross_evaluation.items():\n",
    "    table.append([p_1] + [cross_evaluation[p_1][p_2] for p_2 in results])\n",
    "\n",
    "# Display results\n",
    "print(tabulate(table))\n"
   ]
  },
  {
   "cell_type": "markdown",
   "metadata": {},
   "source": [
    "Running the above cells will output a table displaying the results of the cross evaluation among the players.\n",
    "\n",
    "For creating custom players, refer to the [max_damage_player](max_damage_player.rst) example.\n",
    "\n",
    "For diving into Reinforcement Learning, check out the [rl_with_open_ai_gym_wrapper](rl_with_open_ai_gym_wrapper.rst) example.\n"
   ]
  },
  {
   "cell_type": "markdown",
   "metadata": {},
   "source": []
  }
 ],
 "metadata": {
  "language_info": {
   "codemirror_mode": {
    "name": "ipython",
    "version": 3
   },
   "file_extension": ".py",
   "mimetype": "text/x-python",
   "name": "python",
   "nbconvert_exporter": "python",
   "pygments_lexer": "ipython3",
   "version": "3.9.13"
  }
 },
 "nbformat": 4,
 "nbformat_minor": 2
}

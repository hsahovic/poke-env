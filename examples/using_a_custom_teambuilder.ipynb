{
 "cells": [
  {
   "cell_type": "markdown",
   "metadata": {},
   "source": [
    "# Creating a custom teambuilder\n",
    "\n",
    "The corresponding complete source code can be found [here](https://github.com/hsahovic/poke-env/blob/master/examples/using_a_custom_teambuilder.ipynb).\n",
    "\n",
    "**Note**: this notebooks requires a locally running Pokémon Showdown server. Please see the [getting started section](../getting_started.rst) for help on how to set one up.\n",
    "\n",
    "In [quickstart](quickstart.rst), we chose a team by passing a `str` containing the team we want to use as a showdown format team.\n",
    "\n",
    "However, we might want to use different teams in different battles with the same agent, or use more complex mechanisms to generate and select teams. `Teambuilder` objects are meant for specifying teams in such a custom fashion.\n",
    "\n",
    "This example demonstrates how to build two custom `Teambuilder`s. First, we will build a `Teambuilder` for which we specify a pool of teams, and each game will be played using a team randomly selected from the pool.\n",
    "\n",
    "In the second one, we will have a set of pokemons and randomly generate teams from this set.\n",
    "\n",
    "## Creating a custom `Teambuilder`\n",
    "\n",
    "`Teambuilder` objects need to implement one method, `yield_team`, which will be called before each battle starts to define the team to use. This method must return a showdown packed-formatted string. \n",
    "\n",
    "In this example, we will use a built-in helper functions to simplify this process.\n",
    "\n",
    "Our custom `Teambuilder` will be initialized with a list of showdown formatted teams, and will use one of these team randomly for each battle.\n",
    "\n",
    "To convert showdown formatted teams to the packed-formatted string, we'll proceed in two steps:\n",
    "\n",
    "- Convert showdown formatted teams to lists of ``TeambuilderPokemon`` objects. These objects are used internally by ``poke-env`` to describe pokemons used in a team in a flexible way. You can read more about them in [teambuilder](../modules/teambuilder.rst). This can be accomplished with ``Teambuilder``'s ``parse_showdown_team`` method.\n",
    "- Convert this list of `TeambuilderPokemon` objects into the required formatted string. This can be achieved with `Teambuilder`'s `join_team` method.\n",
    "\n",
    "All in all, we get the following `Teambuilder`:\n"
   ]
  },
  {
   "cell_type": "code",
   "execution_count": 1,
   "metadata": {
    "execution": {
     "iopub.execute_input": "2023-12-17T01:56:59.554299Z",
     "iopub.status.busy": "2023-12-17T01:56:59.553692Z",
     "iopub.status.idle": "2023-12-17T01:56:59.744101Z",
     "shell.execute_reply": "2023-12-17T01:56:59.743491Z"
    }
   },
   "outputs": [],
   "source": [
    "import numpy as np\n",
    "\n",
    "from poke_env.teambuilder import Teambuilder\n",
    "\n",
    "\n",
    "class RandomTeamFromPool(Teambuilder):\n",
    "    def __init__(self, teams):\n",
    "        self.packed_teams = []\n",
    "\n",
    "        for team in teams:\n",
    "            parsed_team = self.parse_showdown_team(team)\n",
    "            packed_team = self.join_team(parsed_team)\n",
    "            self.packed_teams.append(packed_team)\n",
    "\n",
    "    def yield_team(self):\n",
    "        return np.random.choice(self.packed_teams)"
   ]
  },
  {
   "cell_type": "markdown",
   "metadata": {},
   "source": [
    "We can instantiate this `Teambuilder` with a list of showdown formatted teams:"
   ]
  },
  {
   "cell_type": "code",
   "execution_count": 2,
   "metadata": {
    "execution": {
     "iopub.execute_input": "2023-12-17T01:56:59.747752Z",
     "iopub.status.busy": "2023-12-17T01:56:59.747403Z",
     "iopub.status.idle": "2023-12-17T01:56:59.753098Z",
     "shell.execute_reply": "2023-12-17T01:56:59.752527Z"
    }
   },
   "outputs": [
    {
     "name": "stdout",
     "output_type": "stream",
     "text": [
      "Goodra||assaultvest|sapsipper|dragonpulse,flamethrower,sludgewave,thunderbolt|Modest|248,,,252,,8|M|,0,,,,|||]Sylveon||leftovers|pixilate|hypervoice,mysticalfire,protect,wish|Calm|248,,244,,16,|M|,0,,,,|||]Cinderace||lifeorb|blaze|pyroball,suckerpunch,uturn,highjumpkick|Jolly|,252,,,4,252|M||||]Toxtricity||throatspray|punkrock|overdrive,boomburst,shiftgear,firepunch|Rash|,4,,252,,252|M||||]Seismitoad||leftovers|waterabsorb|stealthrock,scald,earthquake,toxic|Relaxed|252,,252,,4,|M||||]Corviknight||leftovers|pressure|defog,bravebird,roost,uturn|Impish|248,,,,80,180|M||||\n",
      "Goodra||assaultvest|sapsipper|dragonpulse,flamethrower,sludgewave,thunderbolt|Modest|248,,,252,,8|M|,0,,,,|||]Sylveon||leftovers|pixilate|hypervoice,mysticalfire,protect,wish|Calm|248,,244,,16,|M|,0,,,,|||]Cinderace||lifeorb|blaze|pyroball,suckerpunch,uturn,highjumpkick|Jolly|,252,,,4,252|M||||]Toxtricity||throatspray|punkrock|overdrive,boomburst,shiftgear,firepunch|Rash|,4,,252,,252|M||||]Seismitoad||leftovers|waterabsorb|stealthrock,scald,earthquake,toxic|Relaxed|252,,252,,4,|M||||]Corviknight||leftovers|pressure|defog,bravebird,roost,uturn|Impish|248,,,,80,180|M||||\n",
      "Togekiss||leftovers|serenegrace|airslash,nastyplot,substitute,thunderwave|Timid|248,,,8,,252||,0,,,,|||]Galvantula||focussash|compoundeyes|stickyweb,thunderwave,thunder,energyball|Timid|,,,252,4,252||,0,,,,|||]Cloyster||leftovers|skilllink|iciclespear,rockblast,iceshard,shellsmash|Adamant|,252,,,4,252|||||]Sandaconda||focussash|sandspit|stealthrock,glare,earthquake,rocktomb|Jolly|,252,,,4,252|||||]Excadrill||focussash|sandrush|ironhead,rockslide,earthquake,rapidspin|Adamant|,252,,,4,252|||||]Cinccino||leftovers|skilllink|bulletseed,knockoff,rockblast,tailslap|Jolly|,252,4,,,252|||||\n",
      "Togekiss||leftovers|serenegrace|airslash,nastyplot,substitute,thunderwave|Timid|248,,,8,,252||,0,,,,|||]Galvantula||focussash|compoundeyes|stickyweb,thunderwave,thunder,energyball|Timid|,,,252,4,252||,0,,,,|||]Cloyster||leftovers|skilllink|iciclespear,rockblast,iceshard,shellsmash|Adamant|,252,,,4,252|||||]Sandaconda||focussash|sandspit|stealthrock,glare,earthquake,rocktomb|Jolly|,252,,,4,252|||||]Excadrill||focussash|sandrush|ironhead,rockslide,earthquake,rapidspin|Adamant|,252,,,4,252|||||]Cinccino||leftovers|skilllink|bulletseed,knockoff,rockblast,tailslap|Jolly|,252,4,,,252|||||\n",
      "Togekiss||leftovers|serenegrace|airslash,nastyplot,substitute,thunderwave|Timid|248,,,8,,252||,0,,,,|||]Galvantula||focussash|compoundeyes|stickyweb,thunderwave,thunder,energyball|Timid|,,,252,4,252||,0,,,,|||]Cloyster||leftovers|skilllink|iciclespear,rockblast,iceshard,shellsmash|Adamant|,252,,,4,252|||||]Sandaconda||focussash|sandspit|stealthrock,glare,earthquake,rocktomb|Jolly|,252,,,4,252|||||]Excadrill||focussash|sandrush|ironhead,rockslide,earthquake,rapidspin|Adamant|,252,,,4,252|||||]Cinccino||leftovers|skilllink|bulletseed,knockoff,rockblast,tailslap|Jolly|,252,4,,,252|||||\n"
     ]
    }
   ],
   "source": [
    "team_1 = \"\"\"\n",
    "Goodra (M) @ Assault Vest\n",
    "Ability: Sap Sipper\n",
    "EVs: 248 HP / 252 SpA / 8 Spe\n",
    "Modest Nature\n",
    "IVs: 0 Atk\n",
    "- Dragon Pulse\n",
    "- Flamethrower\n",
    "- Sludge Wave\n",
    "- Thunderbolt\n",
    "\n",
    "Sylveon (M) @ Leftovers\n",
    "Ability: Pixilate\n",
    "EVs: 248 HP / 244 Def / 16 SpD\n",
    "Calm Nature\n",
    "IVs: 0 Atk\n",
    "- Hyper Voice\n",
    "- Mystical Fire\n",
    "- Protect\n",
    "- Wish\n",
    "\n",
    "Cinderace (M) @ Life Orb\n",
    "Ability: Blaze\n",
    "EVs: 252 Atk / 4 SpD / 252 Spe\n",
    "Jolly Nature\n",
    "- Pyro Ball\n",
    "- Sucker Punch\n",
    "- U-turn\n",
    "- High Jump Kick\n",
    "\n",
    "Toxtricity (M) @ Throat Spray\n",
    "Ability: Punk Rock\n",
    "EVs: 4 Atk / 252 SpA / 252 Spe\n",
    "Rash Nature\n",
    "- Overdrive\n",
    "- Boomburst\n",
    "- Shift Gear\n",
    "- Fire Punch\n",
    "\n",
    "Seismitoad (M) @ Leftovers\n",
    "Ability: Water Absorb\n",
    "EVs: 252 HP / 252 Def / 4 SpD\n",
    "Relaxed Nature\n",
    "- Stealth Rock\n",
    "- Scald\n",
    "- Earthquake\n",
    "- Toxic\n",
    "\n",
    "Corviknight (M) @ Leftovers\n",
    "Ability: Pressure\n",
    "EVs: 248 HP / 80 SpD / 180 Spe\n",
    "Impish Nature\n",
    "- Defog\n",
    "- Brave Bird\n",
    "- Roost\n",
    "- U-turn\n",
    "\"\"\"\n",
    "\n",
    "team_2 = \"\"\"\n",
    "Togekiss @ Leftovers\n",
    "Ability: Serene Grace\n",
    "EVs: 248 HP / 8 SpA / 252 Spe\n",
    "Timid Nature\n",
    "IVs: 0 Atk\n",
    "- Air Slash\n",
    "- Nasty Plot\n",
    "- Substitute\n",
    "- Thunder Wave\n",
    "\n",
    "Galvantula @ Focus Sash\n",
    "Ability: Compound Eyes\n",
    "EVs: 252 SpA / 4 SpD / 252 Spe\n",
    "Timid Nature\n",
    "IVs: 0 Atk\n",
    "- Sticky Web\n",
    "- Thunder Wave\n",
    "- Thunder\n",
    "- Energy Ball\n",
    "\n",
    "Cloyster @ Leftovers\n",
    "Ability: Skill Link\n",
    "EVs: 252 Atk / 4 SpD / 252 Spe\n",
    "Adamant Nature\n",
    "- Icicle Spear\n",
    "- Rock Blast\n",
    "- Ice Shard\n",
    "- Shell Smash\n",
    "\n",
    "Sandaconda @ Focus Sash\n",
    "Ability: Sand Spit\n",
    "EVs: 252 Atk / 4 SpD / 252 Spe\n",
    "Jolly Nature\n",
    "- Stealth Rock\n",
    "- Glare\n",
    "- Earthquake\n",
    "- Rock Tomb\n",
    "\n",
    "Excadrill @ Focus Sash\n",
    "Ability: Sand Rush\n",
    "EVs: 252 Atk / 4 SpD / 252 Spe\n",
    "Adamant Nature\n",
    "- Iron Head\n",
    "- Rock Slide\n",
    "- Earthquake\n",
    "- Rapid Spin\n",
    "\n",
    "Cinccino @ Leftovers\n",
    "Ability: Skill Link\n",
    "EVs: 252 Atk / 4 Def / 252 Spe\n",
    "Jolly Nature\n",
    "- Bullet Seed\n",
    "- Knock Off\n",
    "- Rock Blast\n",
    "- Tail Slap\n",
    "\"\"\"\n",
    "\n",
    "teams = [team_1, team_2]\n",
    "\n",
    "custom_builder = RandomTeamFromPool(teams)\n",
    "\n",
    "for _ in range(5):\n",
    "    print(custom_builder.yield_team())"
   ]
  },
  {
   "cell_type": "markdown",
   "metadata": {},
   "source": [
    "Our `custom_builder` can now be used! To use a `Teambuilder` with a given `Player`, just pass it in its constructor, with the `team` keyword."
   ]
  },
  {
   "cell_type": "code",
   "execution_count": 3,
   "metadata": {
    "execution": {
     "iopub.execute_input": "2023-12-17T01:56:59.756373Z",
     "iopub.status.busy": "2023-12-17T01:56:59.756164Z",
     "iopub.status.idle": "2023-12-17T01:57:00.087919Z",
     "shell.execute_reply": "2023-12-17T01:57:00.087278Z"
    }
   },
   "outputs": [],
   "source": [
    "from poke_env.player import RandomPlayer\n",
    "\n",
    "player_1 = RandomPlayer(\n",
    "    battle_format=\"gen8anythinggoes\",\n",
    "    team=custom_builder,\n",
    "    max_concurrent_battles=10,\n",
    ")\n",
    "player_2 = RandomPlayer(\n",
    "    battle_format=\"gen8anythinggoes\",\n",
    "    team=custom_builder,\n",
    "    max_concurrent_battles=10,\n",
    ")\n",
    "\n",
    "await player_1.battle_against(player_2, n_battles=1)"
   ]
  },
  {
   "cell_type": "markdown",
   "metadata": {},
   "source": [
    "## Building a team from a set of pokemons\n",
    "\n",
    "In this example, we will build a `Teambuilder` that will randomly generate teams from a set of pokemons.\n",
    "\n",
    "First, let's reuse the teams above to create a list of pokemons in showdown format:"
   ]
  },
  {
   "cell_type": "code",
   "execution_count": 4,
   "metadata": {
    "execution": {
     "iopub.execute_input": "2023-12-17T01:57:00.091655Z",
     "iopub.status.busy": "2023-12-17T01:57:00.091394Z",
     "iopub.status.idle": "2023-12-17T01:57:00.098430Z",
     "shell.execute_reply": "2023-12-17T01:57:00.097882Z"
    }
   },
   "outputs": [
    {
     "data": {
      "text/plain": [
       "['Goodra (M) @ Assault Vest\\nAbility: Sap Sipper\\nEVs: 248 HP / 252 SpA / 8 Spe\\nModest Nature\\nIVs: 0 Atk\\n- Dragon Pulse\\n- Flamethrower\\n- Sludge Wave\\n- Thunderbolt',\n",
       " 'Togekiss @ Leftovers\\nAbility: Serene Grace\\nEVs: 248 HP / 8 SpA / 252 Spe\\nTimid Nature\\nIVs: 0 Atk\\n- Air Slash\\n- Nasty Plot\\n- Substitute\\n- Thunder Wave',\n",
       " 'Cinccino @ Leftovers\\nAbility: Skill Link\\nEVs: 252 Atk / 4 Def / 252 Spe\\nJolly Nature\\n- Bullet Seed\\n- Knock Off\\n- Rock Blast\\n- Tail Slap',\n",
       " 'Cinderace (M) @ Life Orb\\nAbility: Blaze\\nEVs: 252 Atk / 4 SpD / 252 Spe\\nJolly Nature\\n- Pyro Ball\\n- Sucker Punch\\n- U-turn\\n- High Jump Kick',\n",
       " 'Cloyster @ Leftovers\\nAbility: Skill Link\\nEVs: 252 Atk / 4 SpD / 252 Spe\\nAdamant Nature\\n- Icicle Spear\\n- Rock Blast\\n- Ice Shard\\n- Shell Smash',\n",
       " 'Corviknight (M) @ Leftovers\\nAbility: Pressure\\nEVs: 248 HP / 80 SpD / 180 Spe\\nImpish Nature\\n- Defog\\n- Brave Bird\\n- Roost\\n- U-turn',\n",
       " 'Excadrill @ Focus Sash\\nAbility: Sand Rush\\nEVs: 252 Atk / 4 SpD / 252 Spe\\nAdamant Nature\\n- Iron Head\\n- Rock Slide\\n- Earthquake\\n- Rapid Spin',\n",
       " 'Galvantula @ Focus Sash\\nAbility: Compound Eyes\\nEVs: 252 SpA / 4 SpD / 252 Spe\\nTimid Nature\\nIVs: 0 Atk\\n- Sticky Web\\n- Thunder Wave\\n- Thunder\\n- Energy Ball',\n",
       " 'Sandaconda @ Focus Sash\\nAbility: Sand Spit\\nEVs: 252 Atk / 4 SpD / 252 Spe\\nJolly Nature\\n- Stealth Rock\\n- Glare\\n- Earthquake\\n- Rock Tomb',\n",
       " 'Seismitoad (M) @ Leftovers\\nAbility: Water Absorb\\nEVs: 252 HP / 252 Def / 4 SpD\\nRelaxed Nature\\n- Stealth Rock\\n- Scald\\n- Earthquake\\n- Toxic',\n",
       " 'Sylveon (M) @ Leftovers\\nAbility: Pixilate\\nEVs: 248 HP / 244 Def / 16 SpD\\nCalm Nature\\nIVs: 0 Atk\\n- Hyper Voice\\n- Mystical Fire\\n- Protect\\n- Wish',\n",
       " 'Toxtricity (M) @ Throat Spray\\nAbility: Punk Rock\\nEVs: 4 Atk / 252 SpA / 252 Spe\\nRash Nature\\n- Overdrive\\n- Boomburst\\n- Shift Gear\\n- Fire Punch']"
      ]
     },
     "execution_count": 4,
     "metadata": {},
     "output_type": "execute_result"
    }
   ],
   "source": [
    "pokemons = team_1.split(\"\\n\\n\") + team_2.split(\"\\n\\n\")\n",
    "pokemons = [pokemon.strip() for pokemon in sorted(pokemons)]\n",
    "pokemons"
   ]
  },
  {
   "cell_type": "markdown",
   "metadata": {},
   "source": [
    "Now, we can create a `Teambuilder` that will randomly generate teams from this list of pokemons:"
   ]
  },
  {
   "cell_type": "code",
   "execution_count": 5,
   "metadata": {
    "execution": {
     "iopub.execute_input": "2023-12-17T01:57:00.101658Z",
     "iopub.status.busy": "2023-12-17T01:57:00.101379Z",
     "iopub.status.idle": "2023-12-17T01:57:00.108461Z",
     "shell.execute_reply": "2023-12-17T01:57:00.107939Z"
    }
   },
   "outputs": [
    {
     "name": "stdout",
     "output_type": "stream",
     "text": [
      "Toxtricity||throatspray|punkrock|overdrive,boomburst,shiftgear,firepunch|Rash|,4,,252,,252|M||||]Cinderace||lifeorb|blaze|pyroball,suckerpunch,uturn,highjumpkick|Jolly|,252,,,4,252|M||||]Corviknight||leftovers|pressure|defog,bravebird,roost,uturn|Impish|248,,,,80,180|M||||]Cinccino||leftovers|skilllink|bulletseed,knockoff,rockblast,tailslap|Jolly|,252,4,,,252|||||]Togekiss||leftovers|serenegrace|airslash,nastyplot,substitute,thunderwave|Timid|248,,,8,,252||,0,,,,|||]Galvantula||focussash|compoundeyes|stickyweb,thunderwave,thunder,energyball|Timid|,,,252,4,252||,0,,,,|||\n",
      "Cinderace||lifeorb|blaze|pyroball,suckerpunch,uturn,highjumpkick|Jolly|,252,,,4,252|M||||]Corviknight||leftovers|pressure|defog,bravebird,roost,uturn|Impish|248,,,,80,180|M||||]Sylveon||leftovers|pixilate|hypervoice,mysticalfire,protect,wish|Calm|248,,244,,16,|M|,0,,,,|||]Sandaconda||focussash|sandspit|stealthrock,glare,earthquake,rocktomb|Jolly|,252,,,4,252|||||]Excadrill||focussash|sandrush|ironhead,rockslide,earthquake,rapidspin|Adamant|,252,,,4,252|||||]Toxtricity||throatspray|punkrock|overdrive,boomburst,shiftgear,firepunch|Rash|,4,,252,,252|M||||\n",
      "Excadrill||focussash|sandrush|ironhead,rockslide,earthquake,rapidspin|Adamant|,252,,,4,252|||||]Seismitoad||leftovers|waterabsorb|stealthrock,scald,earthquake,toxic|Relaxed|252,,252,,4,|M||||]Galvantula||focussash|compoundeyes|stickyweb,thunderwave,thunder,energyball|Timid|,,,252,4,252||,0,,,,|||]Cloyster||leftovers|skilllink|iciclespear,rockblast,iceshard,shellsmash|Adamant|,252,,,4,252|||||]Goodra||assaultvest|sapsipper|dragonpulse,flamethrower,sludgewave,thunderbolt|Modest|248,,,252,,8|M|,0,,,,|||]Sandaconda||focussash|sandspit|stealthrock,glare,earthquake,rocktomb|Jolly|,252,,,4,252|||||\n",
      "Corviknight||leftovers|pressure|defog,bravebird,roost,uturn|Impish|248,,,,80,180|M||||]Galvantula||focussash|compoundeyes|stickyweb,thunderwave,thunder,energyball|Timid|,,,252,4,252||,0,,,,|||]Sylveon||leftovers|pixilate|hypervoice,mysticalfire,protect,wish|Calm|248,,244,,16,|M|,0,,,,|||]Sandaconda||focussash|sandspit|stealthrock,glare,earthquake,rocktomb|Jolly|,252,,,4,252|||||]Cloyster||leftovers|skilllink|iciclespear,rockblast,iceshard,shellsmash|Adamant|,252,,,4,252|||||]Cinccino||leftovers|skilllink|bulletseed,knockoff,rockblast,tailslap|Jolly|,252,4,,,252|||||\n",
      "Goodra||assaultvest|sapsipper|dragonpulse,flamethrower,sludgewave,thunderbolt|Modest|248,,,252,,8|M|,0,,,,|||]Seismitoad||leftovers|waterabsorb|stealthrock,scald,earthquake,toxic|Relaxed|252,,252,,4,|M||||]Excadrill||focussash|sandrush|ironhead,rockslide,earthquake,rapidspin|Adamant|,252,,,4,252|||||]Togekiss||leftovers|serenegrace|airslash,nastyplot,substitute,thunderwave|Timid|248,,,8,,252||,0,,,,|||]Galvantula||focussash|compoundeyes|stickyweb,thunderwave,thunder,energyball|Timid|,,,252,4,252||,0,,,,|||]Cinderace||lifeorb|blaze|pyroball,suckerpunch,uturn,highjumpkick|Jolly|,252,,,4,252|M||||\n"
     ]
    }
   ],
   "source": [
    "class RandomTeamFromPool(Teambuilder):\n",
    "    def __init__(self, pokemons):\n",
    "        self.pokemons = []\n",
    "\n",
    "        for pokemon in pokemons:\n",
    "            parsed_mons = self.parse_showdown_team(pokemon)\n",
    "            self.pokemons.append(parsed_mons[0])\n",
    "\n",
    "        self.n_pokemons = len(self.pokemons)\n",
    "        assert self.n_pokemons >= 6\n",
    "\n",
    "    def yield_team(self):\n",
    "        idxs = np.random.choice(self.n_pokemons, 6, replace=False)\n",
    "        team = [self.pokemons[idx] for idx in idxs]\n",
    "\n",
    "        return self.join_team(team)\n",
    "\n",
    "\n",
    "custom_builder = RandomTeamFromPool(pokemons)\n",
    "\n",
    "for _ in range(5):\n",
    "    print(custom_builder.yield_team())"
   ]
  },
  {
   "cell_type": "code",
   "execution_count": 6,
   "metadata": {
    "execution": {
     "iopub.execute_input": "2023-12-17T01:57:00.111288Z",
     "iopub.status.busy": "2023-12-17T01:57:00.111085Z",
     "iopub.status.idle": "2023-12-17T01:57:00.245308Z",
     "shell.execute_reply": "2023-12-17T01:57:00.244458Z"
    }
   },
   "outputs": [],
   "source": [
    "from poke_env.player import RandomPlayer\n",
    "\n",
    "player_1 = RandomPlayer(\n",
    "    battle_format=\"gen8anythinggoes\",\n",
    "    team=custom_builder,\n",
    "    max_concurrent_battles=10,\n",
    ")\n",
    "player_2 = RandomPlayer(\n",
    "    battle_format=\"gen8anythinggoes\",\n",
    "    team=custom_builder,\n",
    "    max_concurrent_battles=10,\n",
    ")\n",
    "\n",
    "await player_1.battle_against(player_2, n_battles=1)"
   ]
  }
 ],
 "metadata": {
  "kernelspec": {
   "display_name": "poke-env",
   "language": "python",
   "name": "python3"
  },
  "language_info": {
   "codemirror_mode": {
    "name": "ipython",
    "version": 3
   },
   "file_extension": ".py",
   "mimetype": "text/x-python",
   "name": "python",
   "nbconvert_exporter": "python",
   "pygments_lexer": "ipython3",
   "version": "3.9.13"
  }
 },
 "nbformat": 4,
 "nbformat_minor": 2
}

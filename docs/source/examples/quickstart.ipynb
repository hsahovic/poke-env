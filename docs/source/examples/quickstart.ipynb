{
 "cells": [
  {
   "cell_type": "markdown",
   "metadata": {},
   "source": [
    "# `poke-env` Quickstart: Practical Examples and Snippets\n",
    "\n",
    "Complete source code for this example is available [here](https://github.com/hsahovic/poke-env/blob/master/examples/cross_evaluate_random_players.ipynb).\n",
    "\n",
    "**Note**: this notebooks requires a locally running Pokémon Showdown server. Please see the [getting started section](../getting_started.rst) for help on how to set one up.\n",
    "\n",
    "## Creating Agents and Making Them Battle\n",
    "\n",
    "### Creating Built-in Agents\n",
    "\n",
    "`poke-env` comes with a few built-in agents. These agents are meant to be used as a baseline for your own agents.\n",
    "\n",
    "The simplest agent is the `RandomPlayer` agent. This agent will select a random valid move at each turn. Let's create one:\n"
   ]
  },
  {
   "cell_type": "code",
   "execution_count": 1,
   "metadata": {
    "execution": {
     "iopub.execute_input": "2023-12-17T01:47:59.463703Z",
     "iopub.status.busy": "2023-12-17T01:47:59.463265Z",
     "iopub.status.idle": "2023-12-17T01:47:59.475516Z",
     "shell.execute_reply": "2023-12-17T01:47:59.474904Z"
    }
   },
   "outputs": [],
   "source": [
    "import sys\n",
    "\n",
    "sys.path.append(\"../src\")"
   ]
  },
  {
   "cell_type": "code",
   "execution_count": 2,
   "metadata": {
    "execution": {
     "iopub.execute_input": "2023-12-17T01:47:59.479119Z",
     "iopub.status.busy": "2023-12-17T01:47:59.478844Z",
     "iopub.status.idle": "2023-12-17T01:47:59.649124Z",
     "shell.execute_reply": "2023-12-17T01:47:59.648263Z"
    }
   },
   "outputs": [],
   "source": [
    "from poke_env import RandomPlayer\n",
    "from poke_env.data import GenData\n",
    "\n",
    "# The RandomPlayer is a basic agent that makes decisions randomly,\n",
    "# serving as a starting point for more complex agent development.\n",
    "random_player = RandomPlayer()"
   ]
  },
  {
   "cell_type": "markdown",
   "metadata": {},
   "source": [
    "### Creating a Battle\n",
    "\n",
    "To create a battle, let's create a second agent and use the `battle_against` method. It's an asynchronous method, so we need to `await` it."
   ]
  },
  {
   "cell_type": "code",
   "execution_count": 3,
   "metadata": {
    "execution": {
     "iopub.execute_input": "2023-12-17T01:47:59.652004Z",
     "iopub.status.busy": "2023-12-17T01:47:59.651816Z",
     "iopub.status.idle": "2023-12-17T01:48:01.711463Z",
     "shell.execute_reply": "2023-12-17T01:48:01.710929Z"
    }
   },
   "outputs": [],
   "source": [
    "second_player = RandomPlayer()\n",
    "\n",
    "# The battle_against method initiates a battle between two players.\n",
    "# Here we are using asynchronous programming (await) to start the battle.\n",
    "await random_player.battle_against(second_player, n_battles=1)"
   ]
  },
  {
   "cell_type": "markdown",
   "metadata": {},
   "source": [
    "If you want to look at this battle, you can open a browser at [http://localhost:8000](http://localhost:8000) - you should see the battle in the lobby.\n",
    "\n",
    "### Inspecting the Result\n",
    "\n",
    "Here are a couple of ways to inspect the result of this battle."
   ]
  },
  {
   "cell_type": "code",
   "execution_count": 4,
   "metadata": {
    "execution": {
     "iopub.execute_input": "2023-12-17T01:48:01.714006Z",
     "iopub.status.busy": "2023-12-17T01:48:01.713840Z",
     "iopub.status.idle": "2023-12-17T01:48:01.717566Z",
     "shell.execute_reply": "2023-12-17T01:48:01.716638Z"
    }
   },
   "outputs": [
    {
     "name": "stdout",
     "output_type": "stream",
     "text": [
      "Player RandomPlayer 1 won 1 out of 1 played\n",
      "Player RandomPlayer 2 won 0 out of 1 played\n",
      "battle-gen9randombattle-170198 True\n"
     ]
    }
   ],
   "source": [
    "# n_won_battles and n_finished_battles\n",
    "\n",
    "print(\n",
    "    f\"Player {random_player.username} won {random_player.n_won_battles} out of {random_player.n_finished_battles} played\"\n",
    ")\n",
    "print(\n",
    "    f\"Player {second_player.username} won {second_player.n_won_battles} out of {second_player.n_finished_battles} played\"\n",
    ")\n",
    "\n",
    "# Looping over battles\n",
    "\n",
    "for battle_tag, battle in random_player.battles.items():\n",
    "    print(battle_tag, battle.won)"
   ]
  },
  {
   "cell_type": "markdown",
   "metadata": {},
   "source": [
    "You can look at more properties of the [Player](../modules/player.rst) and [Battle](../modules/battle.rst) classes in the documentation.\n",
    "\n",
    "### Running a Cross-Evaluation\n",
    "\n",
    "`poke-env` provides a `cross_evaluate` function, that allows you to run a cross evaluation between multiple agents. It will run a number of battles between the two agents, and return the results of the evaluation in a structured way."
   ]
  },
  {
   "cell_type": "code",
   "execution_count": 5,
   "metadata": {
    "execution": {
     "iopub.execute_input": "2023-12-17T01:48:01.767106Z",
     "iopub.status.busy": "2023-12-17T01:48:01.766898Z",
     "iopub.status.idle": "2023-12-17T01:48:05.142567Z",
     "shell.execute_reply": "2023-12-17T01:48:05.141714Z"
    }
   },
   "outputs": [
    {
     "data": {
      "text/plain": [
       "{'RandomPlayer 1': {'RandomPlayer 1': None,\n",
       "  'RandomPlayer 2': 0.8333333333333334,\n",
       "  'RandomPlayer 3': 0.8},\n",
       " 'RandomPlayer 2': {'RandomPlayer 1': 0.16666666666666666,\n",
       "  'RandomPlayer 2': None,\n",
       "  'RandomPlayer 3': 0.6},\n",
       " 'RandomPlayer 3': {'RandomPlayer 1': 0.2,\n",
       "  'RandomPlayer 2': 0.4,\n",
       "  'RandomPlayer 3': None}}"
      ]
     },
     "execution_count": 5,
     "metadata": {},
     "output_type": "execute_result"
    }
   ],
   "source": [
    "from poke_env import cross_evaluate\n",
    "\n",
    "third_player = RandomPlayer()\n",
    "\n",
    "players = [random_player, second_player, third_player]\n",
    "\n",
    "cross_evaluation = await cross_evaluate(players, n_challenges=5)\n",
    "cross_evaluation"
   ]
  },
  {
   "cell_type": "markdown",
   "metadata": {},
   "source": [
    "Here's one way to pretty print the results of the cross evaluation using `tabulate`:"
   ]
  },
  {
   "cell_type": "code",
   "execution_count": 6,
   "metadata": {
    "execution": {
     "iopub.execute_input": "2023-12-17T01:48:05.147490Z",
     "iopub.status.busy": "2023-12-17T01:48:05.147113Z",
     "iopub.status.idle": "2023-12-17T01:48:05.157991Z",
     "shell.execute_reply": "2023-12-17T01:48:05.157408Z"
    }
   },
   "outputs": [
    {
     "name": "stdout",
     "output_type": "stream",
     "text": [
      "--------------  -------------------  ------------------  --------------\n",
      "-               RandomPlayer 1       RandomPlayer 2      RandomPlayer 3\n",
      "RandomPlayer 1                       0.8333333333333334  0.8\n",
      "RandomPlayer 2  0.16666666666666666                      0.6\n",
      "RandomPlayer 3  0.2                  0.4\n",
      "--------------  -------------------  ------------------  --------------\n"
     ]
    }
   ],
   "source": [
    "from tabulate import tabulate\n",
    "\n",
    "table = [[\"-\"] + [p.username for p in players]]\n",
    "for p_1, results in cross_evaluation.items():\n",
    "    table.append([p_1] + [cross_evaluation[p_1][p_2] for p_2 in results])\n",
    "\n",
    "print(tabulate(table))"
   ]
  },
  {
   "cell_type": "markdown",
   "metadata": {},
   "source": [
    "## Building a Max Damage Player\n",
    "\n",
    "In this section, we introduce the `MaxDamagePlayer`, a custom agent designed to choose moves that maximize damage output.\n",
    "\n",
    "### Implementing the MaxDamagePlayer Class\n",
    "\n",
    "The primary task is to override the choose_move method. This method, defined as `choose_move(self, battle: Battle) -> str`, requires a `Battle` object as input, representing the current game state, and outputs a move order as a string. This move order must adhere to the [showdown protocol](https://github.com/smogon/pokemon-showdown/blob/master/sim/SIM-PROTOCOL.md) format. The `poke-env` library provides the `create_order` method to assist in formatting move orders directly from `Pokemon` and `Move` objects.\n",
    "\n",
    "The `battle` parameter, a `Battle` object, encapsulates the agent's current knowledge of the game state. It provides various properties for easy access to game details, such as `active_pokemon`, `available_moves`, `available_switches`, `opponent_active_pokemon`, `opponent_team`, and `team`.\n",
    "\n",
    "For this example, we'll utilize `available_moves`, which gives us a list of `Move` objects available in the current turn.\n",
    "\n",
    "Our focus in implementing `MaxDamagePlayer` involves two key steps: interpreting the game state information from the battle object and then generating and returning a correctly formatted move order."
   ]
  },
  {
   "cell_type": "code",
   "execution_count": 7,
   "metadata": {
    "execution": {
     "iopub.execute_input": "2023-12-17T01:48:05.161632Z",
     "iopub.status.busy": "2023-12-17T01:48:05.161373Z",
     "iopub.status.idle": "2023-12-17T01:48:05.165949Z",
     "shell.execute_reply": "2023-12-17T01:48:05.165436Z"
    }
   },
   "outputs": [],
   "source": [
    "from poke_env.player import Player\n",
    "\n",
    "\n",
    "class MaxDamagePlayer(Player):\n",
    "    def choose_move(self, battle):\n",
    "        # Chooses a move with the highest base power when possible\n",
    "        if battle.available_moves:\n",
    "            # Iterating over available moves to find the one with the highest base power\n",
    "            best_move = max(battle.available_moves, key=lambda move: move.base_power)\n",
    "            # Creating an order for the selected move\n",
    "            return self.create_order(best_move)\n",
    "        else:\n",
    "            # If no attacking move is available, perform a random switch\n",
    "            # This involves choosing a random move, which could be a switch or another available action\n",
    "            return self.choose_random_move(battle)"
   ]
  },
  {
   "cell_type": "markdown",
   "metadata": {},
   "source": [
    "In the `choose_move` method, our first step is to determine if there are any available moves for the current turn, as indicated by `battle.available_moves`. When a move is available, we select the one with the highest `base_power`. Formatting our choice is achieved by the `create_order`.\n",
    "\n",
    "However, there are scenarios where no moves are available. In such cases, we use `choose_random_move(battle)`. This method randomly selects either a move or a switch, and guarantees that we will return a valid order.\n",
    "\n",
    "The `Player.create_order` function is a crucial part of this process. It's a wrapper method that generates valid battle messages. It can take either a `Move` or a `Pokemon` object as its input. When passing a `Move` object, additional parameters such as `mega`, `z_move`, `dynamax`, or `terastallize` can be specified to indicate special battle actions.\n",
    "\n",
    "We will adjust our strategy to include `terastallize` at the earliest opportunity, enhancing the effectiveness of our player in battle scenarios."
   ]
  },
  {
   "cell_type": "code",
   "execution_count": 8,
   "metadata": {
    "execution": {
     "iopub.execute_input": "2023-12-17T01:48:05.168971Z",
     "iopub.status.busy": "2023-12-17T01:48:05.168731Z",
     "iopub.status.idle": "2023-12-17T01:48:05.172564Z",
     "shell.execute_reply": "2023-12-17T01:48:05.172103Z"
    }
   },
   "outputs": [],
   "source": [
    "class MaxDamagePlayer(Player):\n",
    "    def choose_move(self, battle):\n",
    "        if battle.available_moves:\n",
    "            best_move = max(battle.available_moves, key=lambda move: move.base_power)\n",
    "\n",
    "            if battle.can_tera:\n",
    "                return self.create_order(best_move, terastallize=True)\n",
    "\n",
    "            return self.create_order(best_move)\n",
    "        else:\n",
    "            return self.choose_random_move(battle)"
   ]
  },
  {
   "cell_type": "markdown",
   "metadata": {},
   "source": [
    "### Testing the MaxDamagePlayer\n",
    "\n",
    "Next, we'll test our `MaxDamagePlayer` against a `RandomPlayer` in a series of battles:\n"
   ]
  },
  {
   "cell_type": "code",
   "execution_count": 9,
   "metadata": {
    "execution": {
     "iopub.execute_input": "2023-12-17T01:48:05.175341Z",
     "iopub.status.busy": "2023-12-17T01:48:05.175163Z",
     "iopub.status.idle": "2023-12-17T01:48:16.002873Z",
     "shell.execute_reply": "2023-12-17T01:48:16.002262Z"
    }
   },
   "outputs": [
    {
     "name": "stdout",
     "output_type": "stream",
     "text": [
      "Max damage player won 92 / 100 battles\n"
     ]
    }
   ],
   "source": [
    "# Creating players\n",
    "random_player = RandomPlayer()\n",
    "max_damage_player = MaxDamagePlayer()\n",
    "\n",
    "# Running battles\n",
    "await max_damage_player.battle_against(random_player, n_battles=100)\n",
    "\n",
    "# Displaying results\n",
    "print(f\"Max damage player won {max_damage_player.n_won_battles} / 100 battles\")"
   ]
  },
  {
   "cell_type": "markdown",
   "metadata": {},
   "source": [
    "Unsurprisingly, the `MaxDamagePlayer` wins most of the battles.\n",
    "\n",
    "## Setting teams\n",
    "\n",
    "Most formats do not provide a team automatically. \n",
    "\n",
    "To specify a team, you have two main options: you can either provide a `str` describing your team, or a `Teambuilder` object. This example will focus on the first option; if you want to learn more about using teambuilders, please refer to [Creating a custom teambuilder and Teambuilder: Parse, manage and generate showdown teams](using_a_custom_teambuilder.ipynb).\n",
    "\n",
    "The easiest way to specify a team in poke-env is to copy-paste a showdown team. You can use showdown’s teambuilder and export it directly.\n",
    "\n",
    "Alternatively, you can use showdown’s packed formats, which correspond to the actual string sent by the showdown client to the server.\n",
    "\n",
    "### Using a `str`\n",
    "\n",
    "Here's an example:"
   ]
  },
  {
   "cell_type": "code",
   "execution_count": 10,
   "metadata": {
    "execution": {
     "iopub.execute_input": "2023-12-17T01:48:16.006596Z",
     "iopub.status.busy": "2023-12-17T01:48:16.006040Z",
     "iopub.status.idle": "2023-12-17T01:48:16.266260Z",
     "shell.execute_reply": "2023-12-17T01:48:16.265855Z"
    }
   },
   "outputs": [],
   "source": [
    "team_1 = \"\"\"\n",
    "Goodra (M) @ Assault Vest\n",
    "Ability: Sap Sipper\n",
    "EVs: 248 HP / 252 SpA / 8 Spe\n",
    "Modest Nature\n",
    "IVs: 0 Atk\n",
    "- Dragon Pulse\n",
    "- Flamethrower\n",
    "- Sludge Wave\n",
    "- Thunderbolt\n",
    "\n",
    "Sylveon (M) @ Leftovers\n",
    "Ability: Pixilate\n",
    "EVs: 248 HP / 244 Def / 16 SpD\n",
    "Calm Nature\n",
    "IVs: 0 Atk\n",
    "- Hyper Voice\n",
    "- Mystical Fire\n",
    "- Protect\n",
    "- Wish\n",
    "\n",
    "Toxtricity (M) @ Throat Spray\n",
    "Ability: Punk Rock\n",
    "EVs: 4 Atk / 252 SpA / 252 Spe\n",
    "Rash Nature\n",
    "- Overdrive\n",
    "- Boomburst\n",
    "- Shift Gear\n",
    "- Fire Punch\n",
    "\n",
    "Seismitoad (M) @ Leftovers\n",
    "Ability: Water Absorb\n",
    "EVs: 252 HP / 252 Def / 4 SpD\n",
    "Relaxed Nature\n",
    "- Stealth Rock\n",
    "- Scald\n",
    "- Earthquake\n",
    "- Toxic\n",
    "\n",
    "Corviknight (M) @ Leftovers\n",
    "Ability: Pressure\n",
    "EVs: 248 HP / 80 SpD / 180 Spe\n",
    "Impish Nature\n",
    "- Defog\n",
    "- Brave Bird\n",
    "- Roost\n",
    "- U-turn\n",
    "\n",
    "Galvantula @ Focus Sash\n",
    "Ability: Compound Eyes\n",
    "EVs: 252 SpA / 4 SpD / 252 Spe\n",
    "Timid Nature\n",
    "IVs: 0 Atk\n",
    "- Sticky Web\n",
    "- Thunder Wave\n",
    "- Thunder\n",
    "- Energy Ball\n",
    "\"\"\"\n",
    "team_2 = \"\"\"\n",
    "Togekiss @ Leftovers\n",
    "Ability: Serene Grace\n",
    "EVs: 248 HP / 8 SpA / 252 Spe\n",
    "Timid Nature\n",
    "IVs: 0 Atk\n",
    "- Air Slash\n",
    "- Nasty Plot\n",
    "- Substitute\n",
    "- Thunder Wave\n",
    "\n",
    "Galvantula @ Focus Sash\n",
    "Ability: Compound Eyes\n",
    "EVs: 252 SpA / 4 SpD / 252 Spe\n",
    "Timid Nature\n",
    "IVs: 0 Atk\n",
    "- Sticky Web\n",
    "- Thunder Wave\n",
    "- Thunder\n",
    "- Energy Ball\n",
    "\n",
    "Cloyster @ Leftovers\n",
    "Ability: Skill Link\n",
    "EVs: 252 Atk / 4 SpD / 252 Spe\n",
    "Adamant Nature\n",
    "- Icicle Spear\n",
    "- Rock Blast\n",
    "- Ice Shard\n",
    "- Shell Smash\n",
    "\n",
    "Sandaconda @ Focus Sash\n",
    "Ability: Sand Spit\n",
    "EVs: 252 Atk / 4 SpD / 252 Spe\n",
    "Jolly Nature\n",
    "- Stealth Rock\n",
    "- Glare\n",
    "- Earthquake\n",
    "- Rock Tomb\n",
    "\n",
    "Excadrill @ Focus Sash\n",
    "Ability: Sand Rush\n",
    "EVs: 252 Atk / 4 SpD / 252 Spe\n",
    "Adamant Nature\n",
    "- Iron Head\n",
    "- Rock Slide\n",
    "- Earthquake\n",
    "- Rapid Spin\n",
    "\n",
    "Cinccino @ Leftovers\n",
    "Ability: Skill Link\n",
    "EVs: 252 Atk / 4 Def / 252 Spe\n",
    "Jolly Nature\n",
    "- Bullet Seed\n",
    "- Knock Off\n",
    "- Rock Blast\n",
    "- Tail Slap\n",
    "\"\"\"\n",
    "\n",
    "p1 = MaxDamagePlayer(battle_format=\"gen8ou\", team=team_1)\n",
    "p2 = MaxDamagePlayer(battle_format=\"gen8ou\", team=team_2)\n",
    "\n",
    "await p1.battle_against(p2, n_battles=1)"
   ]
  },
  {
   "cell_type": "markdown",
   "metadata": {},
   "source": [
    "### Dealing with team preview\n",
    "\n",
    "By default, teampreview will be handled by randomly selecting the order of your pokemons. You can change this behaviour by overriding the `teampreview` method of the `Player` class. Here is an example using type-based heuristics:"
   ]
  },
  {
   "cell_type": "code",
   "execution_count": 11,
   "metadata": {
    "execution": {
     "iopub.execute_input": "2023-12-17T01:48:16.268805Z",
     "iopub.status.busy": "2023-12-17T01:48:16.268627Z",
     "iopub.status.idle": "2023-12-17T01:48:16.352684Z",
     "shell.execute_reply": "2023-12-17T01:48:16.352290Z"
    }
   },
   "outputs": [],
   "source": [
    "import numpy as np\n",
    "\n",
    "\n",
    "def teampreview_performance(mon_a, mon_b):\n",
    "    # We evaluate the performance on mon_a against mon_b as its type advantage\n",
    "    a_on_b = b_on_a = -np.inf\n",
    "    for type_ in mon_a.types:\n",
    "        if type_:\n",
    "            a_on_b = max(\n",
    "                a_on_b,\n",
    "                type_.damage_multiplier(\n",
    "                    *mon_b.types, type_chart=GenData.from_gen(8).type_chart\n",
    "                ),\n",
    "            )\n",
    "    # We do the same for mon_b over mon_a\n",
    "    for type_ in mon_b.types:\n",
    "        if type_:\n",
    "            b_on_a = max(\n",
    "                b_on_a,\n",
    "                type_.damage_multiplier(\n",
    "                    *mon_a.types, type_chart=GenData.from_gen(8).type_chart\n",
    "                ),\n",
    "            )\n",
    "    # Our performance metric is the different between the two\n",
    "    return a_on_b - b_on_a\n",
    "\n",
    "\n",
    "class MaxDamagePlayerWithTeampreview(MaxDamagePlayer):\n",
    "    def teampreview(self, battle):\n",
    "        mon_performance = {}\n",
    "\n",
    "        # For each of our pokemons\n",
    "        for i, mon in enumerate(battle.team.values()):\n",
    "            # We store their average performance against the opponent team\n",
    "            mon_performance[i] = np.mean(\n",
    "                [\n",
    "                    teampreview_performance(mon, opp)\n",
    "                    for opp in battle.opponent_team.values()\n",
    "                ]\n",
    "            )\n",
    "\n",
    "        # We sort our mons by performance\n",
    "        ordered_mons = sorted(mon_performance, key=lambda k: -mon_performance[k])\n",
    "\n",
    "        # We start with the one we consider best overall\n",
    "        # We use i + 1 as python indexes start from 0\n",
    "        #  but showdown's indexes start from 1\n",
    "        return \"/team \" + \"\".join([str(i + 1) for i in ordered_mons])\n",
    "\n",
    "\n",
    "p3 = MaxDamagePlayerWithTeampreview(battle_format=\"gen8ou\", team=team_1)\n",
    "p4 = MaxDamagePlayerWithTeampreview(battle_format=\"gen8ou\", team=team_2)\n",
    "\n",
    "await p3.battle_against(p4, n_battles=1)"
   ]
  },
  {
   "cell_type": "markdown",
   "metadata": {},
   "source": [
    "## Other Initialization Options for `Player` Objects\n",
    "\n",
    "### Specifying an Avatar\n",
    "\n",
    "You can specify an `avatar` argument when initializing a `Player` object. This argument is a string, corresponding to the avatar's name.\n",
    "\n",
    "You can find a [list of avatar names here](https://github.com/smogon/pokemon-showdown-client/blob/6d55434cb85e7bbe614caadada819238190214f6/play.pokemonshowdown.com/src/battle-dex-data.ts#L690). If the avatar you are looking for is not in this list, you can inspect the message the client is sending to the server by opening your browser's development console and selecting the avatar manually.\n"
   ]
  },
  {
   "cell_type": "code",
   "execution_count": 12,
   "metadata": {
    "execution": {
     "iopub.execute_input": "2023-12-17T01:48:16.355236Z",
     "iopub.status.busy": "2023-12-17T01:48:16.355066Z",
     "iopub.status.idle": "2023-12-17T01:48:16.359532Z",
     "shell.execute_reply": "2023-12-17T01:48:16.359167Z"
    }
   },
   "outputs": [],
   "source": [
    "player_with_avatar = RandomPlayer(avatar=\"boarder\")"
   ]
  },
  {
   "cell_type": "markdown",
   "metadata": {},
   "source": [
    "### Saving Battle Replays\n",
    "\n",
    "You can save battle replays by specifying a `save_replay` value when initializing a `Player` object. This argument can either be a boolean (if `True`, the replays will be saved in the `replays`) or a string - in which case the replays will be saved in the specified directory."
   ]
  },
  {
   "cell_type": "code",
   "execution_count": 13,
   "metadata": {
    "execution": {
     "iopub.execute_input": "2023-12-17T01:48:16.362307Z",
     "iopub.status.busy": "2023-12-17T01:48:16.361937Z",
     "iopub.status.idle": "2023-12-17T01:48:16.366452Z",
     "shell.execute_reply": "2023-12-17T01:48:16.366024Z"
    }
   },
   "outputs": [],
   "source": [
    "player_with_replays = RandomPlayer(save_replays=\"my_folder\")"
   ]
  },
  {
   "cell_type": "markdown",
   "metadata": {},
   "source": [
    "### Logging\n",
    "\n",
    "Every `Player` instance has a custom logger. By default, it will only surface warnings and errors. You can change the logging level by specifying a `log_level` argument when initializing a `Player` object.\n",
    "\n",
    "The two most relevant values are `logging.INFO` or 20, which will surface every message sent or received by the client (which is very useful when debugging) and 25, which is a custom level used by `poke-env` to surface only the most relevant events.\n",
    "\n",
    "You can also use `logging.DEBUG` or 10, but the difference with `logging.INFO` should only be relevant for `poke-env` internals."
   ]
  },
  {
   "cell_type": "code",
   "execution_count": 14,
   "metadata": {
    "execution": {
     "iopub.execute_input": "2023-12-17T01:48:16.369087Z",
     "iopub.status.busy": "2023-12-17T01:48:16.368874Z",
     "iopub.status.idle": "2023-12-17T01:48:17.379611Z",
     "shell.execute_reply": "2023-12-17T01:48:17.377848Z"
    }
   },
   "outputs": [
    {
     "name": "stderr",
     "output_type": "stream",
     "text": [
      "2023-12-17 02:48:16,370 - RandomPlayer 7 - INFO - Starting listening to showdown websocket\n",
      "2023-12-17 02:48:16,374 - RandomPlayer 7 - INFO - \u001b[92m\u001b[1m<<<\u001b[0m |updateuser| Guest 12|0|170|{\"blockChallenges\":false,\"blockPMs\":false,\"ignoreTickets\":false,\"hideBattlesFromTrainerCard\":false,\"blockInvites\":false,\"doNotDisturb\":false,\"blockFriendRequests\":false,\"allowFriendNotifications\":false,\"displayBattlesToFriends\":false,\"hideLogins\":false,\"hiddenNextBattle\":false,\"inviteOnlyNextBattle\":false,\"language\":null}\n",
      "|customgroups|[{\"symbol\":\"&\",\"name\":\"Administrator\",\"type\":\"leadership\"},{\"symbol\":\"#\",\"name\":\"Room Owner\",\"type\":\"leadership\"},{\"symbol\":\"★\",\"name\":\"Host\",\"type\":\"leadership\"},{\"symbol\":\"@\",\"name\":\"Moderator\",\"type\":\"staff\"},{\"symbol\":\"%\",\"name\":\"Driver\",\"type\":\"staff\"},{\"symbol\":\"§\",\"name\":\"Section Leader\",\"type\":\"staff\"},{\"symbol\":\"*\",\"name\":\"Bot\",\"type\":\"normal\"},{\"symbol\":\"☆\",\"name\":\"Player\",\"type\":\"normal\"},{\"symbol\":\"+\",\"name\":\"Voice\",\"type\":\"normal\"},{\"symbol\":\"^\",\"name\":\"Prize Winner\",\"type\":\"normal\"},{\"symbol\":\"whitelist\",\"name\":\"Whitelist\",\"type\":\"normal\"},{\"symbol\":\" \",\"name\":null,\"type\":\"normal\"},{\"symbol\":\"‽\",\"name\":\"Locked\",\"type\":\"punishment\"},{\"symbol\":\"!\",\"name\":\"Muted\",\"type\":\"punishment\"}]\n",
      "|formats|,LL|,1|S/V Singles|[Gen 9] Random Battle,f|[Gen 9] Unrated Random Battle,b|[Gen 9] Free-For-All Random Battle,7|[Gen 9] Random Battle (Blitz),f|[Gen 9] Multi Random Battle,5|[Gen 9] OU,e|[Gen 9] Ubers,e|[Gen 9] UU,e|[Gen 9] RU,e|[Gen 9] NU,e|[Gen 9] PU,e|[Gen 9] LC,e|[Gen 9] Monotype,e|[Gen 9] CAP,e|[Gen 9] Battle Stadium Singles Regulation D,5c|[Gen 9] Battle Stadium Singles Regulation E,5e|[Gen 9] Dragon King Cup,1e|[Gen 9] Custom Game,c|,1|S/V Doubles|[Gen 9] Random Doubles Battle,f|[Gen 9] Doubles OU,e|[Gen 9] Doubles Ubers,e|[Gen 9] Doubles UU,e|[Gen 9] Doubles LC,c|[Gen 9] VGC 2023 Regulation D,5c|[Gen 9] VGC 2023 Regulation E,5e|[Gen 9] VGC 2023 Regulation E (Bo3),1a|[Gen 9] Doubles Custom Game,c|,1|Unofficial Metagames|[Gen 9] 1v1,e|[Gen 9] 2v2 Doubles,e|[Gen 9] Anything Goes,e|[Gen 9] Free-For-All,6|[Gen 9] LC UU,c|[Gen 9] Monothreat Poison,c|[Gen 9] Monotype CAP,c|[Gen 9] Monotype LC,c|[Gen 9] NFE,c|[Gen 9] ZU,e|,1|Pet Mods|[Gen 3] Hoenn Gaiden,e|[Gen 8] JolteMons Random Battle,f|[Gen 6] NEXT OU,8|,1|Draft|[Gen 9] Paldea Dex Draft,c|[Gen 9] Tera Preview Paldea Dex Draft,c|[Gen 9] 6v6 Doubles Draft,c|[Gen 9] 4v4 Doubles Draft,1c|[Gen 9] NatDex Draft,c|[Gen 9] Tera Preview NatDex Draft,c|[Gen 9] NatDex 6v6 Doubles Draft,c|[Gen 9] NatDex LC Draft,c|[Gen 8] Galar Dex Draft,c|[Gen 8] NatDex Draft,c|[Gen 8] NatDex 4v4 Doubles Draft,1c|[Gen 7] Draft,c|[Gen 6] Draft,c|,2|OM of the Month|[Gen 9] Shared Power,e|[Gen 9] Protean Palace,e|[Gen 9] Inheritance,e|,2|Other Metagames|[Gen 9] Almost Any Ability,e|[Gen 9] Balanced Hackmons,e|[Gen 9] Godly Gift,e|[Gen 9] Mix and Mega,e|[Gen 9] STABmons,e|[Gen 9] Partners in Crime,e|[Gen 6] Pure Hackmons,e|,2|Challengeable OMs|[Gen 9] Camomons,c|[Gen 9] Convergence,c|[Gen 9] Cross Evolution,c|[Gen 9] Fortemons,c|[Gen 9] Frantic Fusions,c|[Gen 9] Full Potential,c|[Gen 9] Pokebilities,c|[Gen 9] Pure Hackmons,c|[Gen 9] Revelationmons,c|[Gen 9] Sharing is Caring,c|[Gen 9] Tera Donation,c|[Gen 9] The Card Game,c|[Gen 9] The Loser's Game,c|[Gen 9] Trademarked,c|,2|National Dex|[Gen 9] National Dex,e|[Gen 9] National Dex Ubers,e|[Gen 9] National Dex UU,e|[Gen 9] National Dex RU,c|[Gen 9] National Dex Monotype,e|[Gen 9] National Dex Doubles,e|[Gen 9] National Dex AG,c|[Gen 9] National Dex BH,c|[Gen 8] National Dex,e|[Gen 8] National Dex UU,c|[Gen 8] National Dex Monotype,c|,3|Randomized Format Spotlight|[Gen 9] Partners in Crime Random Battle,f|[Gen 9] Random Roulette,d|,3|Randomized Metas|[Gen 9] Monotype Random Battle,f|[Gen 9] Random Battle Mayhem,f|[Gen 9] Computer-Generated Teams,f|[Gen 9] Hackmons Cup,f|[Gen 9] Doubles Hackmons Cup,d|[Gen 9] Broken Cup,d|[Gen 9] Challenge Cup 1v1,f|[Gen 9] Challenge Cup 2v2,f|[Gen 9] Challenge Cup 6v6,d|[Gen 9] Metronome Battle,e|[Gen 8] Random Battle,f|[Gen 8] Random Doubles Battle,f|[Gen 8] Free-For-All Random Battle,7|[Gen 8] Multi Random Battle,5|[Gen 8] Battle Factory,f|[Gen 8] BSS Factory,1d|[Gen 8] Super Staff Bros 4,f|[Gen 8] Hackmons Cup,f|[Gen 8] Metronome Battle,c|[Gen 8] CAP 1v1,d|[Gen 8 BDSP] Random Battle,d|[Gen 7] Random Battle,f|[Gen 7] Random Doubles Battle,9|[Gen 7] Battle Factory,f|[Gen 7] BSS Factory,1d|[Gen 7] Hackmons Cup,d|[Gen 7 Let's Go] Random Battle,d|[Gen 6] Random Battle,f|[Gen 6] Battle Factory,9|[Gen 5] Random Battle,f|[Gen 4] Random Battle,f|[Gen 3] Random Battle,f|[Gen 2] Random Battle,f|[Gen 1] Random Battle,f|[Gen 1] Challenge Cup,9|[Gen 1] Hackmons Cup,9|,4|RoA Spotlight|[Gen 6] Ubers,e|[Gen 3] ZU,e|[Gen 3] LC,e|,4|Past Gens OU|[Gen 8] OU,e|[Gen 7] OU,e|[Gen 6] OU,e|[Gen 5] OU,e|[Gen 4] OU,e|[Gen 3] OU,e|[Gen 2] OU,e|[Gen 1] OU,e|,4|Past Gens Doubles OU|[Gen 8] Doubles OU,e|[Gen 7] Doubles OU,e|[Gen 6] Doubles OU,e|[Gen 5] Doubles OU,c|[Gen 4] Doubles OU,c|[Gen 3] Doubles OU,c|,4|Sw/Sh Singles|[Gen 8] Ubers,c|[Gen 8] UU,c|[Gen 8] RU,c|[Gen 8] NU,c|[Gen 8] PU,c|[Gen 8] LC,c|[Gen 8] Monotype,c|[Gen 8] 1v1,c|[Gen 8] Anything Goes,c|[Gen 8] ZU,c|[Gen 8] CAP,c|[Gen 8] Battle Stadium Singles,5c|[Gen 8 BDSP] OU,c|[Gen 8] Custom Game,c|,4|Sw/Sh Doubles|[Gen 8] Doubles Ubers,c|[Gen 8] Doubles UU,c|[Gen 8] VGC 2022,5c|[Gen 8] VGC 2021,5c|[Gen 8] VGC 2020,5c|[Gen 8 BDSP] Doubles OU,c|[Gen 8 BDSP] Battle Festival Doubles,1c|[Gen 8] Doubles Custom Game,c|,4|US/UM Singles|[Gen 7] Ubers,c|[Gen 7] UU,c|[Gen 7] RU,c|[Gen 7] NU,c|[Gen 7] PU,c|[Gen 7] LC,c|[Gen 7] Monotype,c|[Gen 7] 1v1,c|[Gen 7] Anything Goes,c|[Gen 7] ZU,c|[Gen 7] CAP,c|[Gen 7] Battle Spot Singles,5c|[Gen 7 Let's Go] OU,1c|[Gen 7] Custom Game,c|,4|US/UM Doubles|[Gen 7] Doubles UU,c|[Gen 7] VGC 2019,5c|[Gen 7] VGC 2018,5c|[Gen 7] VGC 2017,5c|[Gen 7] Battle Spot Doubles,5c|[Gen 7 Let's Go] Doubles OU,c|[Gen 7] Doubles Custom Game,c|,4|OR/AS Singles|[Gen 6] UU,c|[Gen 6] RU,c|[Gen 6] NU,c|[Gen 6] PU,c|[Gen 6] LC,c|[Gen 6] Monotype,c|[Gen 6] 1v1,c|[Gen 6] Anything Goes,c|[Gen 6] ZU,c|[Gen 6] CAP,c|[Gen 6] Battle Spot Singles,5c|[Gen 6] Custom Game,c|,4|OR/AS Doubles/Triples|[Gen 6] VGC 2016,5c|[Gen 6] VGC 2015,5c|[Gen 6] VGC 2014,5c|[Gen 6] Battle Spot Doubles,5c|[Gen 6] Doubles Custom Game,c|[Gen 6] Battle Spot Triples,1c|[Gen 6] Triples Custom Game,c|,4|B2/W2 Singles|[Gen 5] Ubers,c|[Gen 5] UU,c|[Gen 5] RU,c|[Gen 5] NU,c|[Gen 5] PU,c|[Gen 5] LC,c|[Gen 5] Monotype,c|[Gen 5] 1v1,c|[Gen 5] ZU,c|[Gen 5] CAP,c|[Gen 5] GBU Singles,5c|[Gen 5] Custom Game,c|,4|B2/W2 Doubles|[Gen 5] VGC 2013,5c|[Gen 5] VGC 2012,5c|[Gen 5] VGC 2011,5c|[Gen 5] Doubles Custom Game,c|[Gen 5] Triples Custom Game,c|,4|DPP Singles|[Gen 4] Ubers,c|[Gen 4] UU,c|[Gen 4] NU,c|[Gen 4] PU,c|[Gen 4] LC,c|[Gen 4] Anything Goes,c|[Gen 4] 1v1,c|[Gen 4] ZU,c|[Gen 4] CAP,c|[Gen 4] Custom Game,c|,4|DPP Doubles|[Gen 4] VGC 2010,1c|[Gen 4] VGC 2009,1c|[Gen 4] Doubles Custom Game,c|,4|Past Generations|[Gen 3] Ubers,c|[Gen 3] UU,c|[Gen 3] NU,c|[Gen 3] PU,c|[Gen 3] 1v1,c|[Gen 3] Custom Game,c|[Gen 3] Doubles Custom Game,c|[Gen 2] Ubers,c|[Gen 2] UU,c|[Gen 2] NU,c|[Gen 2] 1v1,c|[Gen 2] Nintendo Cup 2000,c|[Gen 2] Stadium OU,c|[Gen 2] Custom Game,c|[Gen 1] Ubers,c|[Gen 1] UU,c|[Gen 1] NU,c|[Gen 1] PU,c|[Gen 1] 1v1,c|[Gen 1] Japanese OU,c|[Gen 1] Stadium OU,c|[Gen 1] Tradebacks OU,c|[Gen 1] Nintendo Cup 1997,c|[Gen 1] Custom Game,c\n",
      "2023-12-17 02:48:16,375 - RandomPlayer 7 - INFO - \u001b[92m\u001b[1m<<<\u001b[0m |challstr|4|8f1978d24e0553f9e3bac3088000980eda899fc83326ab257e3dd8f19fefe68c243499dfa7cbcf6d13a8dd836e3670818324ddd0d456c466470005ff0cc1705d973b6feeac31dbe6c9cc5d6ad57b66b08ee3ca8722f03a85777f5547a56e1967118efe04b3c2fd96dc3c51ea71f1f3853e6dd98a3cf343f0a7a085eaf65080f2\n",
      "2023-12-17 02:48:16,375 - RandomPlayer 7 - INFO - Bypassing authentication request\n",
      "2023-12-17 02:48:16,375 - RandomPlayer 7 - INFO - \u001b[93m\u001b[1m>>>\u001b[0m |/trn RandomPlayer 7,0,\n",
      "2023-12-17 02:48:16,376 - RandomPlayer 7 - INFO - \u001b[92m\u001b[1m<<<\u001b[0m |updatesearch|{\"searching\":[],\"games\":null}\n",
      "2023-12-17 02:48:16,377 - RandomPlayer 7 - INFO - \u001b[92m\u001b[1m<<<\u001b[0m |updateuser| RandomPlayer 7|1|170|{\"blockChallenges\":false,\"blockPMs\":false,\"ignoreTickets\":false,\"hideBattlesFromTrainerCard\":false,\"blockInvites\":false,\"doNotDisturb\":false,\"blockFriendRequests\":false,\"allowFriendNotifications\":false,\"displayBattlesToFriends\":false,\"hideLogins\":false,\"hiddenNextBattle\":false,\"inviteOnlyNextBattle\":false,\"language\":null}\n"
     ]
    }
   ],
   "source": [
    "verbose_player = RandomPlayer(log_level=20)\n",
    "\n",
    "from asyncio import sleep\n",
    "\n",
    "await sleep(1)"
   ]
  },
  {
   "cell_type": "markdown",
   "metadata": {},
   "source": [
    "### Concurrency\n",
    "\n",
    "By default, a `poke-env` `Player` will only run a single battle at a time. You can change this behavior by specifying a `max_concurrent_battles` argument when initializing a `Player` object.\n",
    "\n",
    "This argument is an integer, and represents the maximum number of battles a `Player` can run at the same time. If 0, no limit will be enforced.\n",
    "\n",
    "This can provide a significant speedup when your process is not CPU bound."
   ]
  },
  {
   "cell_type": "code",
   "execution_count": 15,
   "metadata": {
    "execution": {
     "iopub.execute_input": "2023-12-17T01:48:17.385158Z",
     "iopub.status.busy": "2023-12-17T01:48:17.384790Z",
     "iopub.status.idle": "2023-12-17T01:48:31.733357Z",
     "shell.execute_reply": "2023-12-17T01:48:31.730775Z"
    }
   },
   "outputs": [
    {
     "name": "stdout",
     "output_type": "stream",
     "text": [
      "Time to run 50 battles, one at a time: 14.34 seconds\n"
     ]
    }
   ],
   "source": [
    "import time\n",
    "\n",
    "# Time to run 50 battles, one at a time\n",
    "start = time.time()\n",
    "await random_player.battle_against(second_player, n_battles=50)\n",
    "end = time.time()\n",
    "print(f\"Time to run 50 battles, one at a time: {end - start:.2f} seconds\")"
   ]
  },
  {
   "cell_type": "code",
   "execution_count": 16,
   "metadata": {
    "execution": {
     "iopub.execute_input": "2023-12-17T01:48:31.742628Z",
     "iopub.status.busy": "2023-12-17T01:48:31.742034Z",
     "iopub.status.idle": "2023-12-17T01:48:35.512157Z",
     "shell.execute_reply": "2023-12-17T01:48:35.510176Z"
    }
   },
   "outputs": [
    {
     "name": "stdout",
     "output_type": "stream",
     "text": [
      "Time to run 50 battles, in parallel: 3.75 seconds\n"
     ]
    }
   ],
   "source": [
    "unrestricted_random_player = RandomPlayer(max_concurrent_battles=0)\n",
    "unrestricted_second_player = RandomPlayer(max_concurrent_battles=0)\n",
    "\n",
    "# Time to run 50 battles, in parallel\n",
    "start = time.time()\n",
    "await unrestricted_random_player.battle_against(\n",
    "    unrestricted_second_player, n_battles=50\n",
    ")\n",
    "end = time.time()\n",
    "print(f\"Time to run 50 battles, in parallel: {end - start:.2f} seconds\")"
   ]
  },
  {
   "cell_type": "markdown",
   "metadata": {},
   "source": [
    "Other options can also be used on the server side to make battles run faster.\n",
    "\n",
    "### Pokemon Showdown Timer\n",
    "\n",
    "You can turn on the Pokemon Showdown timer by setting `start_timer_on_battle_start` to `True` when initializing a `Player` object.\n",
    "\n",
    "This is mostly relevant when pitting your argents against humans."
   ]
  },
  {
   "cell_type": "code",
   "execution_count": 17,
   "metadata": {
    "execution": {
     "iopub.execute_input": "2023-12-17T01:48:35.520563Z",
     "iopub.status.busy": "2023-12-17T01:48:35.519910Z",
     "iopub.status.idle": "2023-12-17T01:48:35.531251Z",
     "shell.execute_reply": "2023-12-17T01:48:35.529965Z"
    }
   },
   "outputs": [],
   "source": [
    "impatient_player = RandomPlayer(start_timer_on_battle_start=True)"
   ]
  }
 ],
 "metadata": {
  "kernelspec": {
   "display_name": "Python 3 (ipykernel)",
   "language": "python",
   "name": "python3"
  },
  "language_info": {
   "codemirror_mode": {
    "name": "ipython",
    "version": 3
   },
   "file_extension": ".py",
   "mimetype": "text/x-python",
   "name": "python",
   "nbconvert_exporter": "python",
   "pygments_lexer": "ipython3",
   "version": "3.9.13"
  }
 },
 "nbformat": 4,
 "nbformat_minor": 2
}
